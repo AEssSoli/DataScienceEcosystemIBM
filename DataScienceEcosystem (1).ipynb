{
  "nbformat": 4,
  "nbformat_minor": 0,
  "metadata": {
    "colab": {
      "provenance": []
    },
    "kernelspec": {
      "name": "python3",
      "display_name": "Python 3"
    },
    "language_info": {
      "name": "python"
    }
  },
  "cells": [
    {
      "cell_type": "markdown",
      "source": [
        "# Data Science Tools and Ecosystem"
      ],
      "metadata": {
        "id": "bzOrzn34T8Zu"
      }
    },
    {
      "cell_type": "markdown",
      "source": [
        "In this notebook, Data Science Tools and Ecosystem are summarized."
      ],
      "metadata": {
        "id": "sJxixZX9ULxt"
      }
    },
    {
      "cell_type": "markdown",
      "source": [
        "**Objectives:**\n",
        "\n",
        "\n",
        "*   Popular languages that Data Scientists use\n",
        "*   The commonly used libraries used by Data Scientists\n",
        "*  Data Science Tools\n",
        "\n",
        "\n"
      ],
      "metadata": {
        "id": "YOsOnjpxXOwN"
      }
    },
    {
      "cell_type": "markdown",
      "source": [
        "Some of the popular languages that Data Scientists use are:\n",
        "\n",
        "\n",
        "\n",
        "1.   Python\n",
        "2.   R\n",
        "3.   SQL"
      ],
      "metadata": {
        "id": "-0VX8wBdUjza"
      }
    },
    {
      "cell_type": "markdown",
      "source": [
        "Some of the commonly used libraries used by Data Scientists include:  \n",
        "\n",
        "1.  Pandas\n",
        "2.   Matplotlib\n",
        "3.   Scikit-learn"
      ],
      "metadata": {
        "id": "h5Cn_QxTVLSg"
      }
    },
    {
      "cell_type": "markdown",
      "source": [
        "| **Data Science Tools**    |\n",
        "|---------|\n",
        "| Jupyter Notebook / JupyterLab   |\n",
        "| RStudio    |\n",
        "| Spyder |"
      ],
      "metadata": {
        "id": "TEzCIJ6uVZdw"
      }
    },
    {
      "cell_type": "markdown",
      "source": [
        "###Below are a few examples of evaluating arithmetic expressions in Python"
      ],
      "metadata": {
        "id": "4NV5tR4XV9mI"
      }
    },
    {
      "cell_type": "code",
      "source": [
        "#This a simple arithmetic expression to mutiply then add integers\n",
        "\n",
        "(3*4)+5"
      ],
      "metadata": {
        "colab": {
          "base_uri": "https://localhost:8080/"
        },
        "id": "ZjcM6MFFWcII",
        "outputId": "a6ed4de4-41fd-4c9a-af13-0dbbcbb52cf3"
      },
      "execution_count": 6,
      "outputs": [
        {
          "output_type": "execute_result",
          "data": {
            "text/plain": [
              "17"
            ]
          },
          "metadata": {},
          "execution_count": 6
        }
      ]
    },
    {
      "cell_type": "code",
      "source": [
        " #This will convert 200 minutes to hours by diving by 60\n",
        "\n",
        " 200 / 60"
      ],
      "metadata": {
        "colab": {
          "base_uri": "https://localhost:8080/"
        },
        "id": "mh_jLRBzWxI1",
        "outputId": "667817a5-c257-44d3-afe2-a5edd42bc144"
      },
      "execution_count": 7,
      "outputs": [
        {
          "output_type": "execute_result",
          "data": {
            "text/plain": [
              "3.3333333333333335"
            ]
          },
          "metadata": {},
          "execution_count": 7
        }
      ]
    },
    {
      "cell_type": "markdown",
      "source": [
        "##Author\n",
        "\n",
        "Abdelrahman Essam"
      ],
      "metadata": {
        "id": "pH_2HWsNYPqo"
      }
    }
  ]
}