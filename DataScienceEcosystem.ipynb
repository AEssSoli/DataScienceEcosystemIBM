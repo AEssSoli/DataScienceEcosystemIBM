{
 "cells": [
  {
   "cell_type": "markdown",
   "id": "c5d1f7db-c056-4a52-a8f4-7ec34f7ae1e8",
   "metadata": {},
   "source": [
    "# Data Science Tools and Ecosystem"
   ]
  },
  {
   "cell_type": "markdown",
   "id": "aae1475b-5340-4aa8-97dc-308102d17251",
   "metadata": {
    "tags": []
   },
   "source": [
    "In this notebook, Data Science Tools and Ecosystem are summarized."
   ]
  },
  {
   "cell_type": "markdown",
   "id": "6138fcc6-5a1b-4f83-bb35-c8a0de972130",
   "metadata": {},
   "source": [
    "**Objectives:**\n",
    "\n",
    "\n",
    "Some of the popular languages that Data Scientists use\n",
    "\n",
    "Some of the commonly used libraries used by Data Scientists\n",
    "\n",
    "Examples of evaluating arithmetic expressions\n",
    "\n",
    "\n",
    "\n",
    "\n"
   ]
  },
  {
   "cell_type": "markdown",
   "id": "72957df9-991a-4bc4-8075-fb80e3571889",
   "metadata": {
    "tags": []
   },
   "source": [
    "Some of the commonly used libraries used by Data Scientists include:\n",
    "\n",
    "\n",
    "1- R\n",
    "\n",
    "2- Python\n",
    "\n",
    "3- SQL\n",
    "\n",
    "4- JavaScript"
   ]
  },
  {
   "cell_type": "markdown",
   "id": "504b2373-42b8-4689-a3df-8411645c4356",
   "metadata": {},
   "source": [
    "Some of the commonly used libraries used by Data Scientists include:\n",
    "\n",
    "\n",
    "1- Pandas\n",
    "\n",
    "2- Numpy\n",
    "\n",
    "3- Matplotlib\n",
    "\n",
    "4- Scikit-learn\n",
    "\n",
    "5- Keras\n",
    "\n",
    "6- Tensorflow\n",
    "\n",
    "7- Pytorch"
   ]
  },
  {
   "cell_type": "markdown",
   "id": "b987cec8-6037-4d59-858c-f859c815382c",
   "metadata": {},
   "source": [
    "|**Data Science Tools**|\n",
    "|-----|\n",
    "|Jupyter|\n",
    "|       |\n",
    "|MySQL|\n",
    "|     |\n",
    "|Apache Spark|\n"
   ]
  },
  {
   "cell_type": "markdown",
   "id": "c6d50844-04b9-4348-931e-612aa489512e",
   "metadata": {},
   "source": [
    "### Below are a few examples of evaluating arithmetic expressions in Python"
   ]
  },
  {
   "cell_type": "code",
   "execution_count": 6,
   "id": "73578e1d-5958-41f0-b065-a049b82a236d",
   "metadata": {},
   "outputs": [
    {
     "data": {
      "text/plain": [
       "17"
      ]
     },
     "execution_count": 6,
     "metadata": {},
     "output_type": "execute_result"
    }
   ],
   "source": [
    "#This a simple arithmetic expression to mutiply then add integers\n",
    "\n",
    "(3*4)+5"
   ]
  },
  {
   "cell_type": "code",
   "execution_count": 7,
   "id": "48a39712-ac12-4318-8701-5dc19be270f9",
   "metadata": {},
   "outputs": [
    {
     "data": {
      "text/plain": [
       "3.3333333333333335"
      ]
     },
     "execution_count": 7,
     "metadata": {},
     "output_type": "execute_result"
    }
   ],
   "source": [
    "#This will convert 200 minutes to hours by diving by 60\n",
    "\n",
    "200/60"
   ]
  },
  {
   "cell_type": "markdown",
   "id": "b80f15dd-2d5b-4439-b566-66ae8a7e9926",
   "metadata": {},
   "source": [
    "## Author\n",
    "Abdelrahman Essam"
   ]
  },
  {
   "cell_type": "code",
   "execution_count": null,
   "id": "7f4ad6f4-74dc-4501-be63-3d330d729cc2",
   "metadata": {},
   "outputs": [],
   "source": []
  }
 ],
 "metadata": {
  "kernelspec": {
   "display_name": "Python",
   "language": "python",
   "name": "conda-env-python-py"
  },
  "language_info": {
   "codemirror_mode": {
    "name": "ipython",
    "version": 3
   },
   "file_extension": ".py",
   "mimetype": "text/x-python",
   "name": "python",
   "nbconvert_exporter": "python",
   "pygments_lexer": "ipython3",
   "version": "3.7.12"
  }
 },
 "nbformat": 4,
 "nbformat_minor": 5
}
